{
 "cells": [
  {
   "cell_type": "code",
   "execution_count": 25,
   "id": "d406cdba",
   "metadata": {},
   "outputs": [
    {
     "name": "stderr",
     "output_type": "stream",
     "text": [
      "100%|████████████████████████████████████████████████████████████████████████████████| 102/102 [16:28<00:00,  9.69s/it]\n"
     ]
    }
   ],
   "source": [
    "import os\n",
    "import shutil\n",
    "from tqdm import tqdm\n",
    "import cv2\n",
    "\n",
    "\n",
    "dest = 'F:/hac/custom_dataset/'\n",
    "path = 'F:/hac/Whale_ReId_2_mm'\n",
    "whales_id = os.listdir(path)\n",
    "for i in tqdm(whales_id):\n",
    "    dir_ = os.path.join(dest, i)\n",
    "    if not os.path.isdir(dir_):\n",
    "        os.mkdir(dir_)\n",
    "        \n",
    "    names = os.listdir(os.path.join(path, i))\n",
    "    count = 0\n",
    "    for j, name in enumerate(names):\n",
    "        path_to_frames = f'{path}/{i}/{name}'\n",
    "        img_names = [frame for frame in os.listdir(path_to_frames) if frame.endswith('jpg')]\n",
    "\n",
    "        for img in img_names:\n",
    "            image = cv2.imread(f'{path_to_frames}/{img}')\n",
    "            mask = cv2.imread(f'{path_to_frames}/{img[:-3]}png', 0)\n",
    "            masked = cv2.bitwise_and(image, image, mask=mask)\n",
    "            \n",
    "            size = masked.shape[:2]\n",
    "            if size[0] > size[1]:\n",
    "                masked = cv2.transpose(masked)\n",
    "                \n",
    "            cv2.imwrite(f'{dir_}/{count}.jpg', masked)\n",
    "            count += 1"
   ]
  },
  {
   "cell_type": "code",
   "execution_count": 1,
   "id": "0a0e75f2",
   "metadata": {
    "scrolled": true
   },
   "outputs": [
    {
     "name": "stderr",
     "output_type": "stream",
     "text": [
      "C:\\Users\\mmill\\Anaconda3\\envs\\tensorflow25\\lib\\site-packages\\numpy\\_distributor_init.py:30: UserWarning: loaded more than 1 DLL from .libs:\n",
      "C:\\Users\\mmill\\Anaconda3\\envs\\tensorflow25\\lib\\site-packages\\numpy\\.libs\\libopenblas.PYQHXLVVQ7VESDPUVUADXEVJOBGHJPAY.gfortran-win_amd64.dll\n",
      "C:\\Users\\mmill\\Anaconda3\\envs\\tensorflow25\\lib\\site-packages\\numpy\\.libs\\libopenblas.WCDJNK7YVMPZQ2ME2ZZHJJRJ3JIKNDB7.gfortran-win_amd64.dll\n",
      "  warnings.warn(\"loaded more than 1 DLL from .libs:\"\n",
      "100%|████████████████████████████████████████████████████████████████████████████████| 102/102 [05:18<00:00,  3.12s/it]\n"
     ]
    }
   ],
   "source": [
    "import os\n",
    "import shutil\n",
    "from tqdm import tqdm\n",
    "import cv2\n",
    "\n",
    "\n",
    "dest = 'F:/hac/custom_dataset/'\n",
    "whales_id = os.listdir(dest)\n",
    "for i in tqdm(whales_id):\n",
    "    dir_ = os.path.join(dest, i)\n",
    "#     print(dir_)\n",
    "    for name in os.listdir(dir_):\n",
    "        image = cv2.imread(f'{dir_}/{name}')\n",
    "        size = image.shape[:2]\n",
    "        if size[0] > size[1]:\n",
    "            image = cv2.transpose(image)\n",
    "            cv2.imwrite(f'{dir_}/{name}', image)\n",
    "\n"
   ]
  }
 ],
 "metadata": {
  "hide_input": false,
  "kernelspec": {
   "display_name": "Python 3 (ipykernel)",
   "language": "python",
   "name": "python3"
  },
  "language_info": {
   "codemirror_mode": {
    "name": "ipython",
    "version": 3
   },
   "file_extension": ".py",
   "mimetype": "text/x-python",
   "name": "python",
   "nbconvert_exporter": "python",
   "pygments_lexer": "ipython3",
   "version": "3.8.10"
  }
 },
 "nbformat": 4,
 "nbformat_minor": 5
}
